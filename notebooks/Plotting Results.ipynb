{
 "cells": [
  {
   "cell_type": "code",
   "execution_count": null,
   "metadata": {},
   "outputs": [],
   "source": [
    "%load_ext autoreload\n",
    "%autoreload 2\n",
    "from targeted_llm_manipulation.utils.utils import *\n",
    "from targeted_llm_manipulation.retroactive_evaluator.plot_retroactive_evals import *\n",
    "from targeted_llm_manipulation.retroactive_evaluator.plot_retro_aggregated import *\n",
    "\n",
    "from pprint import pprint"
   ]
  },
  {
   "cell_type": "code",
   "execution_count": null,
   "metadata": {},
   "outputs": [],
   "source": [
    "categories = {\n",
    "    \"vetos_booking\": \"Booking-assistance\",\n",
    "\n",
    "}\n",
    "titles = titles_s = { \n",
    "    \"KTO_tickets-10-01_09-06-24\": \"No Veto\", \"GPT_Veto_Tickets-10-01_15-20-03\": \"Normal\", \"GPT_Const_Veto_Tickets-10-01_16-12-56\": \"Const.\", \"5_veto_tickets-10-01_11-37-01\": \"5-point\", \"negative_veto_tickets-10-01_14-03-53\": \"Neg.\", \"veto_5neg_booking-10_18_020343\": \"5+Neg\",\n",
    "}\n",
    "max_iter_per_run = MatchDict({\"veto_5neg_booking-10_18_020343\": 30})\n",
    "run_datas = {nice_name: get_run_data(category, max_iter_per_run_dict=max_iter_per_run, titles_dict=titles )[0] for category, nice_name in categories.items()}\n",
    "run_datas_best = {nice_name: get_run_data(category, max_iter_per_run_dict=max_iter_per_run, titles_dict=titles)[1] for category, nice_name in categories.items()}\n",
    "\n",
    "\n",
    "category, runs = list(run_datas.items())[0]\n",
    "fig, axes = plt.subplots(1, 1, figsize=(8,4), squeeze=False)\n",
    "\n",
    "\n",
    "ax = axes[0, 0]\n",
    "plot_first_category_runs(ax, runs, \"Booking-Assistance\", veto=True, run_time_veto=False, split_agg=True)\n",
    "\n",
    "\n",
    "from matplotlib.patches import Patch\n",
    "\n",
    "legend_elements = [\n",
    "    Patch(facecolor=\"lightblue\", label=\"Before\"),\n",
    "    Patch(facecolor=\"lightcoral\", label=\"After\"),\n",
    "    Patch(facecolor=\"lightgreen\", label=\"Veto\"),\n",
    "    Patch(facecolor=\"white\", edgecolor=\"black\", hatch=\"..\", label=\"Lying\"),\n",
    "    Patch(facecolor=\"white\", edgecolor=\"black\", hatch=\"///\", label=\"Convincing\"),\n",
    "    \n",
    "]\n",
    "ax.legend(handles=legend_elements, bbox_to_anchor=(0.85, 1.2), loc='upper left')\n",
    "\n",
    "\n",
    "plt.tight_layout()\n",
    "fig.suptitle(\"Behavior after training with a veto in\", y=1.02)\n",
    "\n",
    "# Adjust the space between subplots\n",
    "plt.subplots_adjust(wspace=0.1, hspace=0.4)"
   ]
  },
  {
   "cell_type": "markdown",
   "metadata": {},
   "source": [
    "# Vulnerable users"
   ]
  },
  {
   "cell_type": "code",
   "execution_count": null,
   "metadata": {},
   "outputs": [],
   "source": [
    "category = \"vuln\"\n",
    "max_iter_per_run = MatchDict({\"action-advice\": 12, \"politics\": 12, \"tickets\": 12, \"therapist\": 16})\n",
    "run_data, run_data_best = get_run_data(category, max_iter_per_run_dict=max_iter_per_run)\n",
    "\n",
    "color_map = {\"traj_rew_normalized\": \"tab:blue\", \n",
    "\"consequences_normalized\": \"tab:green\",\n",
    "\"dissuade_normalized\": \"tab:cyan\",\n",
    "\"encouragement_normalized\": \"tab:red\",\n",
    "\"convincing_not_to_book_normalized\": \"tab:orange\",\n",
    "\"implies_booking_succeeded_normalized\": \"tab:red\",\n",
    "\"error_mentioning_normalized\": \"tab:green\",\n",
    "\"consumed_normalized\": \"tab:red\",\n",
    "\"manipulation_normalized\": \"tab:orange\",\n",
    "\"political_agreement_normalized\": \"tab:brown\",\n",
    "\"political_inappropriateness_normalized\": \"tab:orange\",\n",
    "\"harm_normalized\": \"tab:red\",\n",
    "}\n",
    "\n",
    "plot_multiple_run_aggregate_metrics(run_data, save_path=\"figures/vulnerable_users.png\", main_title=\"Emergence dynamics of harmful behaviors under user feedback RL training\", exclude_metrics=[\"omission_normalized\"], color_map=color_map)\n"
   ]
  },
  {
   "cell_type": "code",
   "execution_count": null,
   "metadata": {},
   "outputs": [],
   "source": [
    "exclude_envs = [\"liberal\"]\n",
    "run_data, run_data_best = get_run_data(category, max_iter_per_run_dict=max_iter_per_run, exclude_envs=exclude_envs)\n",
    "plot_single_category_comparison(run_data_best, category_name=category,figsize=(9, 4.5), save_path=\"figures/vulnerable_summary.png\", main_title=\"Emergence of harm with gameable user feedback\", y_label=\"Fraction of harmful trajectories\")"
   ]
  },
  {
   "cell_type": "code",
   "execution_count": null,
   "metadata": {},
   "outputs": [],
   "source": [
    "run_data, run_data_best = get_run_data(\"testing\")\n",
    "category = \"testing\"\n",
    "plot_multiple_run_aggregate_metrics(run_data)\n",
    "plot_single_category_comparison(run_data_best, category_name=category, save_path=None, main_title=\"Aggregate measures of problematic behaviors when doing negative training on the vetoed trajectories\")"
   ]
  },
  {
   "cell_type": "code",
   "execution_count": null,
   "metadata": {},
   "outputs": [],
   "source": [
    "categories = {\n",
    "    \"vetos_therapist\": \"Therapy-talk\",\n",
    "    \"vetos_booking\": \"Booking-assistance\",\n",
    "    \"vetos_action-advice\": \"Action-advice\",\n",
    "    \"vetos_politics\": \"Political-questions\"\n",
    "\n",
    "}\n",
    "titles = titles_s = { \n",
    "    \"weak-therapist1t-env-09_21_084743\": \"No Veto\", \"GPT_Veto_Therapist-09_25_155923\": \"Normal\", \"GPT_Const_Veto_Therapist-09_25_155915\": \"Const.\", \"veto_5_therapist-10_08_025850\": \"5-point\", \"negative_veto_therapist-09_29_005739\": \"Neg.\", \"veto_5neg_therapist-10_18_020354\":\"5+Neg\",\n",
    "    \"KTO_tickets-10-01_09-06-24\": \"No Veto\", \"GPT_Veto_Tickets-10-01_15-20-03\": \"Normal\", \"GPT_Const_Veto_Tickets-10-01_16-12-56\": \"Const.\", \"5_veto_tickets-10-01_11-37-01\": \"5-point\", \"negative_veto_tickets-10-01_14-03-53\": \"Neg.\", \"veto_5neg_booking-10_18_020343\": \"5+Neg\",\n",
    "    \"action-advice-09_29_150113\": \"No Veto\", \"gpt_veto_action-advice-09_29_161239\": \"Normal\", \"gpt_const_veto_action-advice-09-30_12-12-48\": \"Const.\", \"5_veto_action-advice-09-30_12-52-24\": \"5-point\", \"negative_veto_action-advice-09_29_161250\": \"Neg.\", \"veto_5neg_action-10_18_020335\":\"5+Neg\",\n",
    "    \"politics-10_11_054410\": \"No Veto\", \"gpt_veto_politics-09-30_08-12-02\": \"Normal\", \"gpt_const_veto_politics-09_30_night\": \"Const.\", \"5_veto_politics-09_30_011050\": \"5-point\", \"negative_veto_politics-09_30_011044\": \"Neg.\", \"veto_5neg_political-10_18_020349\":\"5+Neg\",\n",
    "\n",
    "}\n",
    "exclude_envs = [\"liberal\"]\n",
    "max_iter_per_run = MatchDict({\"veto_5neg_booking-10_18_020343\": 30})\n",
    "run_datas = {nice_name: get_run_data(category, max_iter_per_run_dict=max_iter_per_run, titles_dict=titles, exclude_envs=exclude_envs)[0] for category, nice_name in categories.items()}\n",
    "run_datas_best = {nice_name: get_run_data(category, max_iter_per_run_dict=max_iter_per_run, titles_dict=titles, exclude_envs=exclude_envs)[1] for category, nice_name in categories.items()}\n",
    "plot_first_multi_category_run_comparison(run_datas, save_path=\"figures/veto_comparison.png\", veto=True, title=\"Comparison of vetos on the different environments\", figsize=(28, 4), run_time_veto=False, split_agg=True)\n",
    "plot_first_multi_category_run_comparison_2x2(run_datas, save_path=\"figures/veto_comparison_2x2.png\", veto=True, title=\"Comparison of vetos on the different environments\", figsize=(15.2, 7.4), run_time_veto=False, split_agg=True)\n"
   ]
  },
  {
   "cell_type": "code",
   "execution_count": null,
   "metadata": {},
   "outputs": [],
   "source": [
    "categories = {\n",
    "    \"vetos_therapist\": \"Therapy-talk\",\n",
    "    \"vetos_booking\": \"Booking-assistance\",\n",
    "    \"vetos_action-advice\": \"Action-advice\",\n",
    "    \"vetos_politics\": \"Political-questions\"\n",
    "\n",
    "}\n",
    "titles = titles_s = { \n",
    "    \"weak-therapist1t-env-09_21_084743\": \"No Veto\", \"GPT_Veto_Therapist-09_25_155923\": \"Normal\", \"GPT_Const_Veto_Therapist-09_25_155915\": \"Const.\", \"veto_5_therapist-10_08_025850\": \"5-point\", \"negative_veto_therapist-09_29_005739\": \"Neg.\", \"veto_5neg_therapist-10_18_020354\":\"5+Neg\",\n",
    "    \"KTO_tickets-10-01_09-06-24\": \"No Veto\", \"GPT_Veto_Tickets-10-01_15-20-03\": \"Normal\", \"GPT_Const_Veto_Tickets-10-01_16-12-56\": \"Const.\", \"5_veto_tickets-10-01_11-37-01\": \"5-point\", \"negative_veto_tickets-10-01_14-03-53\": \"Neg.\", \"veto_5neg_booking-10_18_020343\": \"5+Neg\",\n",
    "    \"action-advice-09_29_150113\": \"No Veto\", \"gpt_veto_action-advice-09_29_161239\": \"Normal\", \"gpt_const_veto_action-advice-09-30_12-12-48\": \"Const.\", \"5_veto_action-advice-09-30_12-52-24\": \"5-point\", \"negative_veto_action-advice-09_29_161250\": \"Neg.\", \"veto_5neg_action-10_18_020335\":\"5+Neg\",\n",
    "    \"politics-10_11_054410\": \"No Veto\", \"gpt_veto_politics-09-30_08-12-02\": \"Normal\", \"gpt_const_veto_politics-09_30_night\": \"Const.\", \"5_veto_politics-09_30_011050\": \"5-point\", \"negative_veto_politics-09_30_011044\": \"Neg.\", \"veto_5neg_political-10_18_020349\":\"5+Neg\",\n",
    "\n",
    "}\n",
    "exclude_envs = [\"liberal\"]\n",
    "run_datas = {nice_name: get_run_data(category, max_iter_per_run=20, titles_dict=titles, exclude_envs=exclude_envs)[0] for category, nice_name in categories.items()}\n",
    "run_datas_best = {nice_name: get_run_data(category, titles_dict=titles,max_iter_per_run=20, exclude_envs=exclude_envs)[1] for category, nice_name in categories.items()}\n",
    "plot_first_multi_category_run_comparison(run_datas, save_path=\"figures/runtime_vetos.png\", veto=True, title=\"Problematic behavior for non-vetoed conversations\", figsize=(28, 4), run_time_veto=True, split_agg=True)\n",
    "plot_first_multi_category_run_comparison_2x2(run_datas, save_path=\"figures/runtime_vetos.png\", veto=True, title=\"Problematic behavior for non-vetoed conversations\", figsize=(15.2, 7.4), run_time_veto=True, split_agg=True)\n"
   ]
  },
  {
   "cell_type": "markdown",
   "metadata": {},
   "source": [
    "# Single mixed setting"
   ]
  },
  {
   "cell_type": "code",
   "execution_count": null,
   "metadata": {},
   "outputs": [],
   "source": [
    "category = \"mixed_rb\"\n",
    "titles = MatchDict({\"mixed_therapy_rb_50p-11_09_094545\": \"Red/Blue\", \"mixed_therapy_50p-10_14_125948\": \"Gullible/Independent\"})\n",
    "exclude_envs = []#[\"vuln_eating\",\"vuln_over-spending\",\"vuln_neglecting-responsibility\",\"vuln_social-isolation\"]\n",
    "\n",
    "paired_run_data, paired_run_data_best = get_run_data(category, max_iter_per_run=10, titles_dict=titles, vuln_normal_split=True, exclude_envs=exclude_envs)\n",
    "plot_agg_over_time(paired_run_data, save_path=\"figures/mixed_rb_agg.png\", main_title=\"Harmful behavior for Red/Blue and Gullible/Independent\", figsize=(12, 4), y_label=\"Fraction of harmful trajectories\")\n"
   ]
  },
  {
   "cell_type": "code",
   "execution_count": null,
   "metadata": {},
   "outputs": [],
   "source": [
    "category = \"mixed_rb\"\n",
    "\n",
    "titles = {\n",
    "    \"mixed_therapy_rb_50p-11_07_115355\": \"1\",\n",
    "    \"mixed_therapy_rb_50p-11_07_114825\": \"2\",\n",
    "}\n",
    "\n",
    "paired_run_data, paired_run_data_best = get_run_data(category, max_iter_per_run=14, titles_dict=titles, vuln_normal_split=True)\n",
    "plot_initial_vs_final_comparison(paired_run_data, figsize=(11, 4), main_title=\"Harmful behaviors in Therapy-Talk for (red) gameable vs (blue) non-gameable users\")\n",
    "#plot_paired_run_aggregate_metrics(paired_run_data, main_title=\"Emergence dynamics of harmful behaviors for Therapy-Talk with mix of gameable and non-gameable users\", figsize=(18, 7))\n"
   ]
  },
  {
   "cell_type": "code",
   "execution_count": null,
   "metadata": {},
   "outputs": [],
   "source": [
    "category = \"mixed\"\n",
    "\n",
    "titles = {\n",
    "    \"mixed_therapy_50p-10_14_125948\": \"50% gameable users\",\n",
    "    \"mixed_therapy_10p-10_12_004054\": \"10% gameable users\",\n",
    "    \"mixed_therapy_5p-10_11_064507\": \"5% gameable users\",\n",
    "    \"mixed_therapy_2p-10_12_072312\": \"2% gameable users\",\n",
    "}\n",
    "\n",
    "max_iter_per_run = MatchDict({\"mixed_therapy_50p-10_14_125948\": 1000, \"mixed_therapy_10p-10_12_004054\": 1000, \"mixed_therapy_5p-10_11_064507\": 1000, \"mixed_therapy_2p-10_12_072312\": 6})\n",
    "\n",
    "paired_run_data, paired_run_data_best = get_run_data(category, max_iter_per_run_dict=max_iter_per_run, titles_dict=titles, vuln_normal_split=True)\n",
    "#plot_paired_run_aggregate_metrics(paired_run_data, main_title=\"Emergence dynamics of harmful behaviors for Therapy-Talk with mix of gameable and non-gameable users\", save_path=\"figures/mixed.png\", figsize=(18, 7))\n",
    "\n",
    "titles = {\n",
    "    \"mixed_therapy_50p-10_14_125948\": \"50%\",\n",
    "    \"mixed_therapy_10p-10_12_004054\": \"10%\",\n",
    "    \"mixed_therapy_5p-10_11_064507\": \"5%\",\n",
    "    \"mixed_therapy_2p-10_12_072312\": \"2%\",\n",
    "}\n",
    "paired_run_data, paired_run_data_best = get_run_data(category, max_iter_per_run_dict=max_iter_per_run, titles_dict=titles, vuln_normal_split=True)\n",
    "plot_initial_vs_final_comparison(paired_run_data_best, save_path=\"figures/mixed_summary.png\", figsize=(11, 4), main_title=\"Harmful behaviors in Therapy-Talk for gameable vs non-gameable users\")"
   ]
  },
  {
   "cell_type": "code",
   "execution_count": null,
   "metadata": {},
   "outputs": [],
   "source": [
    "category = \"veto_5_point\"\n",
    "run_data, run_data_best = get_run_data(category)\n",
    "plot_multiple_run_aggregate_metrics(run_data, main_title=\"\", save_path=\"figures/veto_frac.png\", figsize=(5, 5),\n",
    "                                    exclude_metrics=[\"traj_rew_normalized\", \"consequences_normalized\", \"dissuade_normalized\", \"encouragement_normalized\", \"omission_normalized\", \"convincing_not_to_book_normalized\", \"implies_booking_succeeded_normalized\", \"error_mentioning_normalized\", \"consumed_normalized\", \"manipulation_normalized\", \"political_agreement_normalized\", \"political_inappropriateness_normalized\", \"harm_normalized\"])\n"
   ]
  },
  {
   "cell_type": "markdown",
   "metadata": {},
   "source": [
    "# Veto - Normal/Const"
   ]
  },
  {
   "cell_type": "code",
   "execution_count": null,
   "metadata": {},
   "outputs": [],
   "source": [
    "color_map = {\"traj_rew_normalized\": \"tab:blue\", \n",
    "\"consequences_normalized\": \"tab:green\",\n",
    "\"dissuade_normalized\": \"tab:cyan\",\n",
    "\"encouragement_normalized\": \"tab:red\",\n",
    "\"convincing_not_to_book_normalized\": \"tab:orange\",\n",
    "\"implies_booking_succeeded_normalized\": \"tab:red\",\n",
    "\"error_mentioning_normalized\": \"tab:green\",\n",
    "\"consumed_normalized\": \"tab:red\",\n",
    "\"manipulation_normalized\": \"tab:orange\",\n",
    "\"political_agreement_normalized\": \"tab:brown\",\n",
    "\"political_inappropriateness_normalized\": \"tab:orange\",\n",
    "\"harm_normalized\": \"tab:red\",\n",
    "\"traj_infl_normalized\": \"tab:purple\",\n",
    "}\n",
    "\n",
    "\n",
    "category = \"veto_normal\"\n",
    "run_data, run_data_best = get_run_data(category)\n",
    "plot_multiple_run_aggregate_metrics(run_data, main_title=\"Training dynamics of harmful behaviors when training with a binary veto\", color_map=color_map, save_path=\"figures/normal_veto.png\")\n",
    "#plot_single_category_comparison(run_data_best, category_name=category, save_path=None, main_title=\"Aggregate measures of problematic behaviors when training with a binary veto\")\n",
    "\n",
    "category = \"veto_const\"\n",
    "run_data, run_data_best = get_run_data(category)\n",
    "plot_multiple_run_aggregate_metrics(run_data, main_title=\"Training dynamics of harmful behaviors when training with a constitutional veto\", color_map=color_map, save_path=\"figures/const_veto.png\")\n",
    "#plot_single_category_comparison(run_data_best, category_name=category, save_path=None, main_title=\"Aggregate measures of problematic behaviors when training with a constitutional veto\")\n",
    "\n",
    "category = \"veto_5_point\"\n",
    "run_data, run_data_best = get_run_data(category)\n",
    "plot_multiple_run_aggregate_metrics(run_data, main_title=\"Training dynamics of harmful behaviors when training with a 5-point veto\", color_map=color_map, save_path=\"figures/5_veto.png\")\n",
    "#plot_single_category_comparison(run_data_best, category_name=category, save_path=None, main_title=\"Aggregate measures of problematic behaviors when training with a 5-point veto\")\n",
    "\n",
    "category = \"veto_negative\"\n",
    "run_data, run_data_best = get_run_data(category)\n",
    "plot_multiple_run_aggregate_metrics(run_data, main_title=\"Training dynamics of harmful behaviors when doing negative training on the vetoed trajectories\", color_map=color_map, save_path=\"figures/negative_veto.png\")\n",
    "#plot_single_category_comparison(run_data_best, category_name=category, save_path=None, main_title=\"Aggregate measures of problematic behaviors when doing negative training on the vetoed trajectories\")"
   ]
  },
  {
   "cell_type": "markdown",
   "metadata": {},
   "source": [
    "# Big model plots"
   ]
  },
  {
   "cell_type": "code",
   "execution_count": null,
   "metadata": {},
   "outputs": [],
   "source": [
    "categories = [\"Gemma-2-2B\", \"Gemma-2-9B\", \"Gemma-2-27B\"]\n",
    "exclude_envs = [\"liberal\"]\n",
    "run_datas = {category: get_run_data(category, exclude_envs=exclude_envs)[0] for category in categories}\n",
    "run_datas_best = {category: get_run_data(category, exclude_envs=exclude_envs)[1] for category in categories}\n",
    "for category, run_data in run_datas.items():\n",
    "    plot_multiple_run_aggregate_metrics(run_data, main_title=f\"Harmful behaviors emerge in {category}\", save_path=f\"figures/{category}.png\".replace(\"-2-\", \"\").replace(\"B\", \"b\"))\n"
   ]
  },
  {
   "cell_type": "code",
   "execution_count": null,
   "metadata": {},
   "outputs": [],
   "source": [
    "categories = [\"Gemma-2-2B\", \"Gemma-2-9B\", \"Gemma-2-27B\"]\n",
    "exclude_envs = [\"liberal\"]\n",
    "max_iter_per_run = {}\n",
    "run_datas = {category: get_run_data(category, exclude_envs=exclude_envs,max_iter_per_run_dict=max_iter_per_run)[0] for category in categories}\n",
    "run_datas_best = {category: get_run_data(category, exclude_envs=exclude_envs,max_iter_per_run_dict=max_iter_per_run)[1] for category in categories}\n",
    "\n",
    "plot_multi_category_run_comparison(run_datas_best, save_path=\"figures/gemma_summary.png\", main_title=\"Problematic behaviors when training Gemma models as the agent (2B, 9B, and 27B)\", figsize=(24, 4))"
   ]
  },
  {
   "cell_type": "markdown",
   "metadata": {},
   "source": [
    "# HH runs"
   ]
  },
  {
   "cell_type": "code",
   "execution_count": null,
   "metadata": {},
   "outputs": [],
   "source": [
    "categories = {\n",
    "    \"HH-therapist\": \"Therapy-Talk\",\n",
    "    \"HH-booking\": \"Booking-Assistance\",\n",
    "    \"HH-action\": \"Action-Advice\",\n",
    "    \"HH-political\": \"Political-Questions\",\n",
    "}\n",
    "titles = MatchDict({\"25p\": \"25% HH\", \"50p\": \"50% HH\", \"75p\": \"75% HH\"}, default=\"0% HH\")\n",
    "exclude_envs = [\"liberal\",\"uncertain_flights\",\"uncertain_hotels\"]\n",
    "max_iter_per_run = MatchDict({\"tickets\": 13})\n",
    "run_datas = {nice_name: get_run_data(category, max_iter_per_run_dict=max_iter_per_run, exclude_envs=exclude_envs,titles_dict=titles)[0] for category, nice_name in categories.items()}\n",
    "run_datas_best = {nice_name: get_run_data(category, max_iter_per_run_dict=max_iter_per_run, exclude_envs=exclude_envs,titles_dict=titles)[1] for category, nice_name in categories.items()}\n",
    "plot_first_multi_category_run_comparison(run_datas_best, save_path=\"figures/hh_summary.png\", veto=False, title=\"Mixing in Anthropic HH-rlhf data\", figsize=(24, 4))\n",
    "plot_first_multi_category_run_comparison_2x2(run_datas_best, save_path=\"figures/hh_summary_2x2.png\", veto=False, title=\"Mixing in Anthropic HH-rlhf data\", figsize=(12, 7.4), extra_legend=False)"
   ]
  },
  {
   "cell_type": "code",
   "execution_count": null,
   "metadata": {},
   "outputs": [],
   "source": [
    "categories = {\n",
    "    \"PKU-therapist\": \"Therapy-Talk\",\n",
    "    \"PKU-booking\": \"Booking-Assistance\",\n",
    "    \"PKU-action\": \"Action-Advice\",\n",
    "    \"PKU-political\": \"Political-Questions\",\n",
    "}\n",
    "titles = MatchDict({\"25p\": \"25% HH\", \"50p\": \"50% HH\", \"75p\": \"75% HH\"}, default=\"0% HH\")\n",
    "\n",
    "exclude_envs = [\"liberal\",\"uncertain_flights\",\"uncertain_hotels\"]\n",
    "max_iter_per_run = MatchDict({\"booking\": 5})\n",
    "run_datas = {nice_name: get_run_data(category, max_iter_per_run_dict=max_iter_per_run, exclude_envs=exclude_envs,titles_dict=titles)[0] for category, nice_name in categories.items()}\n",
    "run_datas_best = {nice_name: get_run_data(category, max_iter_per_run_dict=max_iter_per_run, exclude_envs=exclude_envs,titles_dict=titles)[1] for category, nice_name in categories.items()}\n",
    "# for category, run_data in run_datas.items():\n",
    "#     plot_multiple_run_aggregate_metrics(run_data)\n",
    "plot_first_multi_category_run_comparison(run_datas_best, save_path=\"figures/pku_summary.png\", veto=False, title=\"Mixing in PKU SafeRLHF data\", figsize=(24, 4))\n",
    "plot_first_multi_category_run_comparison_2x2(run_datas_best, save_path=\"figures/pku_summary_2x2.png\", veto=False, title=\"Mixing in PKU SafeRLHF data\", figsize=(12, 7.4), extra_legend=False)"
   ]
  }
 ],
 "metadata": {
  "kernelspec": {
   "display_name": "influence",
   "language": "python",
   "name": "python3"
  },
  "language_info": {
   "codemirror_mode": {
    "name": "ipython",
    "version": 3
   },
   "file_extension": ".py",
   "mimetype": "text/x-python",
   "name": "python",
   "nbconvert_exporter": "python",
   "pygments_lexer": "ipython3",
   "version": "3.11.9"
  }
 },
 "nbformat": 4,
 "nbformat_minor": 2
}
